{
 "cells": [
  {
   "cell_type": "markdown",
   "metadata": {},
   "source": [
    "# UMLS Data Exploration"
   ]
  },
  {
   "cell_type": "markdown",
   "metadata": {},
   "source": [
    "## Setup"
   ]
  },
  {
   "cell_type": "code",
   "execution_count": 11,
   "metadata": {},
   "outputs": [],
   "source": [
    "import os\n",
    "import pandas\n",
    "from tqdm import tqdm"
   ]
  },
  {
   "cell_type": "code",
   "execution_count": 12,
   "metadata": {},
   "outputs": [],
   "source": [
    "PROJECT_ROOT = os.path.join(\"..\")\n",
    "DATA_ROOT = os.path.join(PROJECT_ROOT, \"data\")\n",
    "RAW_DATA_ROOT = os.path.join(DATA_ROOT, \"raw\")\n",
    "PROCESSED_DATA_ROOT = os.path.join(DATA_ROOT, \"processed\")\n",
    "FULL_UMLS_ROOT = os.path.join(RAW_DATA_ROOT, \"2024AA-full\", \"2024AA\")\n",
    "META_ROOT = os.path.join(FULL_UMLS_ROOT, \"META\")\n",
    "MRCONSO_PATH = os.path.join(META_ROOT, \"MRCONSO.RRF\")"
   ]
  },
  {
   "cell_type": "code",
   "execution_count": null,
   "metadata": {},
   "outputs": [
    {
     "name": "stderr",
     "output_type": "stream",
     "text": [
      "Parsing UMLS concepts (MRCONSO.RRF): 12585387it [20:05, 292261.60it/s]"
     ]
    }
   ],
   "source": [
    "all_lines = []\n",
    "for line in tqdm(open(MRCONSO_PATH), desc='Parsing UMLS concepts (MRCONSO.RRF)'):\n",
    "    line = line.split('|')\n",
    "    all_lines.append(line)"
   ]
  },
  {
   "cell_type": "code",
   "execution_count": null,
   "metadata": {},
   "outputs": [],
   "source": []
  }
 ],
 "metadata": {
  "kernelspec": {
   "display_name": "COMP0158-PJ",
   "language": "python",
   "name": "comp0158-pj"
  },
  "language_info": {
   "codemirror_mode": {
    "name": "ipython",
    "version": 3
   },
   "file_extension": ".py",
   "mimetype": "text/x-python",
   "name": "python",
   "nbconvert_exporter": "python",
   "pygments_lexer": "ipython3",
   "version": "3.8.8"
  }
 },
 "nbformat": 4,
 "nbformat_minor": 1
}
