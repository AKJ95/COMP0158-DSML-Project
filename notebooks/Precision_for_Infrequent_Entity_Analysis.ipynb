{
  "cells": [
    {
      "cell_type": "code",
      "execution_count": null,
      "metadata": {
        "id": "CA5gfY_Gl2pO"
      },
      "outputs": [],
      "source": [
        "import json"
      ]
    },
    {
      "cell_type": "code",
      "execution_count": null,
      "metadata": {
        "id": "cfffwRGz2YhR"
      },
      "outputs": [],
      "source": [
        "import matplotlib.pyplot as plt\n",
        "import numpy as np"
      ]
    },
    {
      "cell_type": "code",
      "execution_count": null,
      "metadata": {
        "id": "hQuB5vzT1U0J"
      },
      "outputs": [],
      "source": []
    },
    {
      "cell_type": "code",
      "execution_count": null,
      "metadata": {
        "id": "o1Ip2_HvmRK5"
      },
      "outputs": [],
      "source": [
        "def read_mm_converted(mm_set_path):\n",
        "    with open(mm_set_path, 'r') as json_f:\n",
        "        mm_set = json.load(json_f)\n",
        "\n",
        "    return list(mm_set['docs'])"
      ]
    },
    {
      "cell_type": "code",
      "execution_count": null,
      "metadata": {
        "id": "kfg7t_ufmkBb"
      },
      "outputs": [],
      "source": [
        "num_spans_train = 0\n",
        "gold_labels_train = []\n",
        "mm_docs = read_mm_converted('mm_converted.train.json')\n",
        "for doc in mm_docs:\n",
        "    for sentence in doc['sentences']:\n",
        "        num_spans_train += len(sentence['spans'])\n",
        "        for span in sentence['spans']:\n",
        "            gold_labels_train.append(span['cui'].lstrip('UMLS:'))\n",
        "assert len(gold_labels_train) == num_spans_train"
      ]
    },
    {
      "cell_type": "code",
      "execution_count": null,
      "metadata": {
        "id": "hwqWAGyNmySA"
      },
      "outputs": [],
      "source": [
        "with open('ens_rerank.txt', 'r') as f:\n",
        "    # Parse the JSON string\n",
        "    data = json.load(f)"
      ]
    },
    {
      "cell_type": "code",
      "execution_count": null,
      "metadata": {
        "id": "VJN6t67mEmiX"
      },
      "outputs": [],
      "source": [
        "for i in range(len(data['gold_labels'])):\n",
        "  data['gold_labels'][i] = data['gold_labels'][i].lstrip(\"UMLS:\")\n",
        "gold_labels = np.array(data['gold_labels'])\n",
        "pred_labels = np.array(data['pred_labels'])"
      ]
    },
    {
      "cell_type": "code",
      "execution_count": null,
      "metadata": {
        "id": "3sngccoOW3fK",
        "colab": {
          "base_uri": "https://localhost:8080/"
        },
        "outputId": "04642c85-19b5-4571-9932-e79f36ce4123"
      },
      "outputs": [
        {
          "output_type": "stream",
          "name": "stdout",
          "text": [
            "37829\n"
          ]
        }
      ],
      "source": [
        "print(len(gold_labels))"
      ]
    },
    {
      "cell_type": "code",
      "execution_count": null,
      "metadata": {
        "id": "Z1sKo1ydnivh",
        "colab": {
          "base_uri": "https://localhost:8080/"
        },
        "outputId": "03ff5f85-e57a-491e-e96a-e39e439c835c"
      },
      "outputs": [
        {
          "output_type": "stream",
          "name": "stdout",
          "text": [
            "Number of unique labels found in test set: 8414\n"
          ]
        }
      ],
      "source": [
        "gold_labels_set = set(gold_labels)\n",
        "print(f\"Number of unique labels found in test set: {len(gold_labels_set)}\")"
      ]
    },
    {
      "cell_type": "code",
      "execution_count": null,
      "metadata": {
        "id": "G5BJabu82cC_"
      },
      "outputs": [],
      "source": [
        "training_counts = []\n",
        "training_counts_dict = {}\n",
        "for concept in gold_labels_set:\n",
        "  count_in_training = gold_labels_train.count(concept)\n",
        "  training_counts.append(count_in_training)\n",
        "  training_counts_dict[concept] = count_in_training"
      ]
    },
    {
      "cell_type": "code",
      "execution_count": null,
      "metadata": {
        "id": "ZmT1wQ431mBo"
      },
      "outputs": [],
      "source": []
    },
    {
      "cell_type": "code",
      "execution_count": null,
      "metadata": {
        "colab": {
          "base_uri": "https://localhost:8080/",
          "height": 449
        },
        "id": "P7ZlonI22mOS",
        "outputId": "c925d0ba-126f-4cb1-ba5f-ec3ced167c1f"
      },
      "outputs": [
        {
          "output_type": "display_data",
          "data": {
            "text/plain": [
              "<Figure size 640x480 with 1 Axes>"
            ],
            "image/png": "[encoded data removed]"
          },
          "metadata": {}
        }
      ],
      "source": [
        "plt.hist(training_counts, bins=200, range=[0, 200])\n",
        "plt.ylabel('Number of Concepts')\n",
        "plt.xlabel('Number of Data Points in MedMentions Training Set');"
      ]
    },
    {
      "cell_type": "code",
      "execution_count": null,
      "metadata": {
        "colab": {
          "base_uri": "https://localhost:8080/"
        },
        "id": "CZRvNtkp3vrF",
        "outputId": "5846526e-559f-474a-c845-b7789057ac01"
      },
      "outputs": [
        {
          "output_type": "execute_result",
          "data": {
            "text/plain": [
              "3577"
            ]
          },
          "metadata": {},
          "execution_count": 272
        }
      ],
      "source": [
        "training_counts.count(0)"
      ]
    },
    {
      "cell_type": "code",
      "execution_count": null,
      "metadata": {
        "id": "dzqXO6qZ5FNC"
      },
      "outputs": [],
      "source": [
        "indices = np.where(gold_labels == \"C0229671\")"
      ]
    },
    {
      "cell_type": "code",
      "execution_count": null,
      "metadata": {
        "colab": {
          "base_uri": "https://localhost:8080/"
        },
        "id": "PT4b0Qgq5Rwd",
        "outputId": "a0749918-fefb-4b2f-90aa-96b356eaf263"
      },
      "outputs": [
        {
          "output_type": "execute_result",
          "data": {
            "text/plain": [
              "array(['C0229671', 'C0229671', 'C0229671', 'C0229671', 'C0229671',\n",
              "       'C0229671', 'C0229671', 'C0229671', 'C0312586', 'C0229671',\n",
              "       'C0229671', 'C0229671', 'C0229671', 'C0229671', 'C0229671',\n",
              "       'C0229671', 'C0229671', 'C0229671', 'C0229671', 'C0229671',\n",
              "       'C0229671', 'C0229671', 'C0229671', 'C0229671', 'C0229671',\n",
              "       'C0229671', 'C0229671', 'C0229671', 'C0229671', 'C0229671',\n",
              "       'C0229671'], dtype='<U8')"
            ]
          },
          "metadata": {},
          "execution_count": 274
        }
      ],
      "source": [
        "pred_labels[indices]"
      ]
    },
    {
      "cell_type": "code",
      "execution_count": null,
      "metadata": {
        "id": "JeKOo0dp9UHD"
      },
      "outputs": [],
      "source": [
        "test_cui = \"C0229671\""
      ]
    },
    {
      "cell_type": "code",
      "execution_count": null,
      "metadata": {
        "colab": {
          "base_uri": "https://localhost:8080/"
        },
        "id": "QGsODlnG9Q0O",
        "outputId": "134bdf9c-242f-49f3-e1fd-011d25605e95"
      },
      "outputs": [
        {
          "output_type": "execute_result",
          "data": {
            "text/plain": [
              "130"
            ]
          },
          "metadata": {},
          "execution_count": 276
        }
      ],
      "source": [
        "training_counts_dict[test_cui]"
      ]
    },
    {
      "cell_type": "code",
      "execution_count": null,
      "metadata": {
        "id": "VGOBBsi9i38_"
      },
      "outputs": [],
      "source": [
        "tp = 0\n",
        "fp = 0\n",
        "for i in range(len(gold_labels)):\n",
        "  if pred_labels[i] is not None:\n",
        "    if gold_labels[i] == pred_labels[i]:\n",
        "      tp += 1\n",
        "    else:\n",
        "      fp += 1"
      ]
    },
    {
      "cell_type": "code",
      "execution_count": null,
      "metadata": {
        "id": "GPP-gMmQO_E4"
      },
      "outputs": [],
      "source": [
        "fn = 0\n",
        "for i in range(len(pred_labels)):\n",
        "  if pred_labels[i] is None:\n",
        "    fn += 1"
      ]
    },
    {
      "cell_type": "code",
      "source": [
        "precision = tp/(tp+fp)\n",
        "recall = tp/(tp+fn)\n",
        "f1 = 2 * (precision * recall) / (precision + recall)\n",
        "print(f\"Precision: {precision}\")\n",
        "print(f\"Recall: {recall}\")\n",
        "print(f\"F1: {f1}\")"
      ],
      "metadata": {
        "colab": {
          "base_uri": "https://localhost:8080/"
        },
        "id": "2JQApwm5sRqv",
        "outputId": "fd6a5fbb-1691-4ede-9840-30c8f01e76d2"
      },
      "execution_count": null,
      "outputs": [
        {
          "output_type": "stream",
          "name": "stdout",
          "text": [
            "Precision: 0.5107985936715218\n",
            "Recall: 1.0\n",
            "F1: 0.6761968085106382\n"
          ]
        }
      ]
    },
    {
      "cell_type": "code",
      "execution_count": null,
      "metadata": {
        "id": "d09I2Zru7Ox5"
      },
      "outputs": [],
      "source": [
        "def compute_precision_of_concept(cui, golds, preds):\n",
        "  relevant_indices = np.where(golds == cui)\n",
        "  relevant_preds = preds[relevant_indices]\n",
        "  tp1 = 0\n",
        "  fp1 = 0\n",
        "  for pred in relevant_preds:\n",
        "    if pred is not None:\n",
        "      if pred == cui:\n",
        "        tp1 += 1\n",
        "      else:\n",
        "        fp1 += 1\n",
        "  if tp1 + fp1 == 0:\n",
        "    return 0\n",
        "  return tp1 / (tp1+fp1)"
      ]
    },
    {
      "cell_type": "code",
      "execution_count": null,
      "metadata": {
        "colab": {
          "base_uri": "https://localhost:8080/"
        },
        "id": "0lzN6wCx7cY1",
        "outputId": "bd8ba8d9-15ad-4c7d-edc8-ac8a7b1a57f5"
      },
      "outputs": [
        {
          "output_type": "execute_result",
          "data": {
            "text/plain": [
              "0.967741935483871"
            ]
          },
          "metadata": {},
          "execution_count": 281
        }
      ],
      "source": [
        "compute_precision_of_concept(test_cui, gold_labels, pred_labels)"
      ]
    },
    {
      "cell_type": "code",
      "execution_count": null,
      "metadata": {
        "id": "1za-dtBD-iMe",
        "colab": {
          "base_uri": "https://localhost:8080/"
        },
        "outputId": "99e85203-f4db-42fc-8f89-93e6cd48e3be"
      },
      "outputs": [
        {
          "output_type": "stream",
          "name": "stdout",
          "text": [
            "Example 1000/8414\n",
            "Example 2000/8414\n",
            "Example 3000/8414\n",
            "Example 4000/8414\n",
            "Example 5000/8414\n",
            "Example 6000/8414\n",
            "Example 7000/8414\n",
            "Example 8000/8414\n",
            "Example 8414/8414\n"
          ]
        }
      ],
      "source": [
        "scatter_x = []\n",
        "scatter_y = []\n",
        "processed_count = 0\n",
        "for test_cui in gold_labels_set:\n",
        "  processed_count += 1\n",
        "  precision = compute_precision_of_concept(test_cui, gold_labels, pred_labels)\n",
        "  if processed_count % 1000 == 0 or processed_count == len(gold_labels_set):\n",
        "    print(f\"Example {processed_count}/{len(gold_labels_set)}\")\n",
        "  # print(f\"Counts: {training_counts_dict[test_cui]}\")\n",
        "  # print(f\"Precision: {precision}\")\n",
        "  scatter_x.append(training_counts_dict[test_cui])\n",
        "  scatter_y.append(precision)"
      ]
    },
    {
      "cell_type": "code",
      "execution_count": null,
      "metadata": {
        "id": "Sehpy44DAABM"
      },
      "outputs": [],
      "source": [
        "scatter_x = np.array(scatter_x)\n",
        "scatter_y = np.array(scatter_y)"
      ]
    },
    {
      "cell_type": "code",
      "execution_count": null,
      "metadata": {
        "id": "wht42WxrAGZ4",
        "colab": {
          "base_uri": "https://localhost:8080/",
          "height": 448
        },
        "outputId": "e6d16d4a-53e2-416a-87f1-6ba1648c17b2"
      },
      "outputs": [
        {
          "output_type": "execute_result",
          "data": {
            "text/plain": [
              "<matplotlib.collections.PathCollection at 0x7d538ccb2320>"
            ]
          },
          "metadata": {},
          "execution_count": 284
        },
        {
          "output_type": "display_data",
          "data": {
            "text/plain": [
              "<Figure size 640x480 with 1 Axes>"
            ],
            "image/png": "[encoded data removed]"
          },
          "metadata": {}
        }
      ],
      "source": [
        "plt.scatter(scatter_x, scatter_y)"
      ]
    },
    {
      "cell_type": "code",
      "execution_count": null,
      "metadata": {
        "id": "H8TE7N7BBPZV"
      },
      "outputs": [],
      "source": [
        "unique_x_counts = np.unique(scatter_x)\n",
        "final_x_counts = []\n",
        "average_precisions = []\n",
        "for unique_x_count in unique_x_counts:\n",
        "  corresponding_indices = np.where(scatter_x == unique_x_count)\n",
        "  corresponding_precisions = scatter_y[corresponding_indices]\n",
        "  if len(corresponding_indices[0]) >= 5:\n",
        "    final_x_counts.append(unique_x_count)\n",
        "    average_precisions.append(np.mean(corresponding_precisions))\n",
        "  # print(np.mean(corresponding_precisions))\n",
        "final_x_counts = np.array(final_x_counts)\n",
        "average_precisions = np.array(average_precisions)"
      ]
    },
    {
      "cell_type": "code",
      "execution_count": null,
      "metadata": {
        "id": "nLoOT8TuBQhD",
        "colab": {
          "base_uri": "https://localhost:8080/",
          "height": 467
        },
        "outputId": "e91db214-cbbf-48d2-fb33-d9bd6efaf3a8"
      },
      "outputs": [
        {
          "output_type": "execute_result",
          "data": {
            "text/plain": [
              "(-0.1, 1.1)"
            ]
          },
          "metadata": {},
          "execution_count": 286
        },
        {
          "output_type": "display_data",
          "data": {
            "text/plain": [
              "<Figure size 640x480 with 1 Axes>"
            ],
            "image/png": "[encoded data removed]"
          },
          "metadata": {}
        }
      ],
      "source": [
        "plt.scatter(final_x_counts, average_precisions)\n",
        "plt.xlabel(\"Number of mentions in the training set\")\n",
        "plt.ylabel(\"Average precision\")\n",
        "plt.ylim(-0.1, 1.1)"
      ]
    }
  ],
  "metadata": {
    "colab": {
      "provenance": []
    },
    "kernelspec": {
      "display_name": "Python 3",
      "name": "python3"
    },
    "language_info": {
      "name": "python"
    }
  },
  "nbformat": 4,
  "nbformat_minor": 0
}